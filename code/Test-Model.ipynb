{
 "cells": [
  {
   "cell_type": "markdown",
   "metadata": {},
   "source": [
    "This notebook is intended to test the performance of various models on the validation \n",
    "dataset to give a comparitive understanding"
   ]
  },
  {
   "cell_type": "code",
   "execution_count": 1,
   "metadata": {},
   "outputs": [],
   "source": [
    "import os\n",
    "import numpy as np\n",
    "import torch\n",
    "import torch.nn as nn\n",
    "import torch.nn.functional as F\n",
    "import torchvision.models as models\n",
    "import torchvision.transforms as transforms\n",
    "import torch.utils.data as data\n",
    "import torchvision\n",
    "from torch.autograd import Variable\n",
    "import matplotlib.pyplot as plt\n",
    "from sklearn.model_selection import train_test_split\n",
    "from sklearn.preprocessing import OneHotEncoder, LabelEncoder\n",
    "from sklearn.metrics import accuracy_score\n",
    "import pickle\n",
    "from PIL import Image\n",
    "from tensorboardX import SummaryWriter"
   ]
  },
  {
   "cell_type": "markdown",
   "metadata": {},
   "source": [
    "### Initial Performace is computed against the F2F dataset and then we try it against the DeepFake dataset"
   ]
  },
  {
   "cell_type": "code",
   "execution_count": 2,
   "metadata": {},
   "outputs": [],
   "source": [
    "# for CRNN\n",
    "class Dataset_CRNN_Deep_Fake(data.Dataset):\n",
    "    \"Characterizes a dataset for PyTorch\"\n",
    "    def __init__(self, data_path, frame_length=10, transform=None):\n",
    "        \"Initialization\"\n",
    "        self.transform = transform\n",
    "        #self.frames = frames\n",
    "        self.folders = data_path\n",
    "        self.frames = frame_length #For our case since we are computing 10 frames always\n",
    "\n",
    "    def __len__(self):\n",
    "        \"Denotes the total number of samples\"\n",
    "        return len(os.listdir(self.folders))\n",
    "\n",
    "    def read_images(self, data_path, use_transform):\n",
    "        X = []\n",
    "        file_name = \"\"\n",
    "        for i in os.listdir(data_path):\n",
    "            file_name = i\n",
    "            image = Image.open(os.path.join(data_path,i))\n",
    "            \n",
    "            #print(image.shape)\n",
    "            if use_transform is not None:\n",
    "                image = use_transform(image)\n",
    "                #print(image.size)\n",
    "            image = torch.from_numpy(np.asarray(image))\n",
    "            X.append(image)\n",
    "        X = torch.stack(X, dim=0)\n",
    "\n",
    "        return X, file_name\n",
    "\n",
    "    def __getitem__(self, index):\n",
    "        data_path = os.path.join(self.folders,os.listdir(self.folders)[index])\n",
    "              \n",
    "        # Load data\n",
    "        X, file_name = self.read_images(data_path, self.transform)                     # (input) spatial images\n",
    "        \n",
    "        y = np.ones(self.frames)\n",
    "        if 'real' in data_path:\n",
    "            y = np.zeros(self.frames)\n",
    "        #print(\"Folder is {}\".format(data_path))\n",
    "        #print(X.shape)\n",
    "        return X, torch.from_numpy(y).type(torch.LongTensor)"
   ]
  },
  {
   "cell_type": "markdown",
   "metadata": {},
   "source": [
    "## Including F2F dataloader"
   ]
  },
  {
   "cell_type": "code",
   "execution_count": 3,
   "metadata": {},
   "outputs": [],
   "source": [
    "# for CRNN\n",
    "class Dataset_CRNN_F2F(data.Dataset):\n",
    "    \"Characterizes a dataset for PyTorch\"\n",
    "    def __init__(self, data_path, transform=None):\n",
    "        \"Initialization\"\n",
    "        self.transform = transform\n",
    "        #self.frames = frames\n",
    "        self.folders = data_path\n",
    "        self.frames = 10 #For our case since we are computing 10 frames always\n",
    "\n",
    "    def __len__(self):\n",
    "        \"Denotes the total number of samples\"\n",
    "        return len(os.listdir(self.folders))\n",
    "\n",
    "    def read_images(self, data_path, use_transform):\n",
    "        X = []\n",
    "        for i in os.listdir(data_path):\n",
    "            #print(\"file name is \",i)\n",
    "            image = Image.open(os.path.join(data_path,i))\n",
    "            \n",
    "            #print(image.shape)\n",
    "            if use_transform is not None:\n",
    "                image = use_transform(image)\n",
    "                #print(image.size)\n",
    "            image = torch.from_numpy(np.asarray(image))\n",
    "            X.append(image)\n",
    "        X = torch.stack(X, dim=0)\n",
    "\n",
    "        return X\n",
    "\n",
    "    def __getitem__(self, index):\n",
    "        data_path = os.path.join(self.folders,os.listdir(self.folders)[index])\n",
    "              \n",
    "        # Load data\n",
    "        X = self.read_images(data_path, self.transform)                     # (input) spatial images\n",
    "        \n",
    "        y = np.ones(self.frames)\n",
    "        if 'orig' in data_path:\n",
    "            y = np.zeros(self.frames)\n",
    "        # print(X.shape)\n",
    "        return X, torch.from_numpy(y).type(torch.LongTensor)  #torch.from_numpy(y).type(torch.LongTensor) "
   ]
  },
  {
   "cell_type": "code",
   "execution_count": null,
   "metadata": {},
   "outputs": [],
   "source": []
  },
  {
   "cell_type": "code",
   "execution_count": 4,
   "metadata": {},
   "outputs": [],
   "source": [
    "TRANSFORM_IMG = transforms.Compose([\n",
    "    transforms.Resize((256,256)),\n",
    "    transforms.CenterCrop(256),\n",
    "    #transforms.ToTensor()\n",
    "    #transforms.Normalize(mean=[0.4246, 0.4144, 0.4114],\n",
    "                         #std=[0.2265, 0.2208, 0.2215])\n",
    "    ])"
   ]
  },
  {
   "cell_type": "code",
   "execution_count": 5,
   "metadata": {},
   "outputs": [],
   "source": [
    "val_path = '/home/chinmay/datatset/val/'\n",
    "val_data = Dataset_CRNN_F2F(val_path, transform=TRANSFORM_IMG)"
   ]
  },
  {
   "cell_type": "code",
   "execution_count": 6,
   "metadata": {},
   "outputs": [],
   "source": [
    "batch_size = 16"
   ]
  },
  {
   "cell_type": "code",
   "execution_count": 7,
   "metadata": {},
   "outputs": [],
   "source": [
    "CNN_emded_dim = 32768\n",
    "\n",
    "res_size = 224        # ResNet image size\n",
    "dropout_p = 0.5      # dropout probability being high as it seems to overfit\n",
    "\n",
    "# use same decoder RNN saved!\n",
    "RNN_hidden_layers = 2\n",
    "RNN_hidden_nodes = 64\n",
    "RNN_FC_dim = 16"
   ]
  },
  {
   "cell_type": "code",
   "execution_count": 8,
   "metadata": {},
   "outputs": [],
   "source": [
    "# 2D CNN encoder using ResNet-152 pretrained\n",
    "import torchvision.models as models\n",
    "class ResCNNEncoder(nn.Module):\n",
    "    def __init__(self):\n",
    "        \"\"\"Load the pretrained ResNet-152 and replace top fc layer.\"\"\"\n",
    "        super(ResCNNEncoder, self).__init__()\n",
    "\n",
    "        # self.model = Meso4_modified()\n",
    "        self.model = models.vgg11_bn(pretrained=True)\n",
    "        \n",
    "    def forward(self, x_3d):\n",
    "        x_3d = x_3d.permute(0,1,4,2,3)# Required to match shapes\n",
    "        x_3d = x_3d.type(torch.cuda.FloatTensor) #Converting to Float Tensor from Byte Tensor\n",
    "        cnn_embed_seq = []\n",
    "        with torch.no_grad():\n",
    "            for t in range(x_3d.size(1)):\n",
    "                x = self.model.features(x_3d[:, t, :, :, :])\n",
    "                x = x.view(x.shape[0], -1)\n",
    "                cnn_embed_seq.append(x)\n",
    "            cnn_embed_seq = torch.stack(cnn_embed_seq, dim=0).transpose_(0, 1)\n",
    "            #print(\"shaps is {}\".format(cnn_embed_seq.shape))\n",
    "        return cnn_embed_seq\n",
    "\n",
    "\n",
    "class DecoderRNN(nn.Module):\n",
    "    def __init__(self, CNN_embed_dim=256, h_RNN_layers=3, h_RNN=256, h_FC_dim=128, drop_p=0.3, num_classes=2):\n",
    "        super(DecoderRNN, self).__init__()\n",
    "\n",
    "        self.RNN_input_size = CNN_embed_dim\n",
    "        self.h_RNN_layers = h_RNN_layers   # RNN hidden layers\n",
    "        self.h_RNN = h_RNN                 # RNN hidden nodes\n",
    "        self.h_FC_dim = h_FC_dim\n",
    "        self.drop_p = drop_p\n",
    "        self.num_classes = num_classes\n",
    "\n",
    "        self.LSTM = nn.LSTM(\n",
    "            input_size=self.RNN_input_size,\n",
    "            hidden_size=self.h_RNN,        \n",
    "            num_layers=h_RNN_layers, \n",
    "            dropout = drop_p,\n",
    "            batch_first=True,       # input & output will has batch size as 1s dimension. e.g. (batch, time_step, input_size)\n",
    "        )\n",
    "\n",
    "        self.fc1 = nn.Linear(self.h_RNN, self.h_FC_dim)\n",
    "        self.fc2 = nn.Linear(self.h_FC_dim, self.num_classes)\n",
    "\n",
    "    def forward(self, x_RNN):\n",
    "        \n",
    "        self.LSTM.flatten_parameters()\n",
    "        RNN_out, (h_n, h_c) = self.LSTM(x_RNN, None)  \n",
    "        \"\"\" h_n shape (n_layers, batch, hidden_size), h_c shape (n_layers, batch, hidden_size) \"\"\" \n",
    "        \"\"\" None represents zero initial hidden state. RNN_out has shape=(batch, time_step, output_size) \"\"\"\n",
    "        # print(\"shape is {}\".format(RNN_out.shape))\n",
    "        # FC layers\n",
    "        x = self.fc1(RNN_out[:, -1, :])   # choose RNN_out at the last time step\n",
    "        x = F.relu(x)\n",
    "        x = F.dropout(x, p=self.drop_p) #, training=self.training\n",
    "        x = self.fc2(x)\n",
    "        #print(\"output shape is {}\".format(x.shape))\n",
    "        return x\n",
    "\n",
    "## ---------------------- end of CRNN module ---------------------- ##"
   ]
  },
  {
   "cell_type": "code",
   "execution_count": 7,
   "metadata": {},
   "outputs": [],
   "source": [
    "def find_median(numpy_array = []): #This is expected to take an array of array. So,\n",
    "    #print(\"Input array is {}\".format(numpy_array))\n",
    "    output = []\n",
    "    confidence_scores = []\n",
    "    for array in numpy_array:\n",
    "        counts = np.bincount(array)\n",
    "        output.append(np.argmax(counts))\n",
    "        # Let us compute the confidence of the scores\n",
    "        # since frames are independent, our confidence is purely based on the number\n",
    "        # of frames our model thinks is belonging to a specific category\n",
    "        # the confidence of individual frame prediction is not taken into consideration\n",
    "        # and this portion is debatable....\n",
    "        frame_set_pred = np.sort(counts)[-1]\n",
    "        confidence = frame_set_pred/sum(counts)\n",
    "        confidence_scores.append(confidence)\n",
    "    return torch.from_numpy(np.asarray(output)).type(torch.LongTensor), torch.from_numpy(np.asarray(confidence_scores)).type(torch.FloatTensor)"
   ]
  },
  {
   "cell_type": "code",
   "execution_count": 8,
   "metadata": {},
   "outputs": [],
   "source": [
    "# Detect devices\n",
    "use_cuda = torch.cuda.is_available()                   # check if GPU exists\n",
    "device = torch.device(\"cuda\" if use_cuda else \"cpu\")  \n",
    "params = {'batch_size': batch_size, 'shuffle': True, 'num_workers': 4, 'pin_memory': True} if use_cuda else {}\n",
    "loss_function = nn.CrossEntropyLoss()\n",
    "valid_loader = data.DataLoader(val_data, **params)"
   ]
  },
  {
   "cell_type": "code",
   "execution_count": 11,
   "metadata": {},
   "outputs": [],
   "source": [
    "# reload CRNN model\n",
    "cnn_encoder = ResCNNEncoder().to(device) #Since we have a GPU already\n",
    "rnn_decoder = DecoderRNN(CNN_embed_dim=CNN_emded_dim, h_RNN_layers=RNN_hidden_layers, h_RNN=RNN_hidden_nodes, \n",
    "                         h_FC_dim=RNN_FC_dim, drop_p=dropout_p, num_classes=2).to(device)"
   ]
  },
  {
   "cell_type": "code",
   "execution_count": 16,
   "metadata": {},
   "outputs": [],
   "source": [
    "model_path = \"/home/chinmay/model_weights/res_vgg/\"\n",
    "model_name_encoder = \"cnn_encoder_epoch19.pth\"\n",
    "PATH = os.path.join(model_path, model_name_encoder)\n",
    "cnn_encoder.load_state_dict(torch.load(PATH))\n",
    "model_name_decoder = \"rnn_decoder_epoch19.pth\"\n",
    "PATH = os.path.join(model_path, model_name_decoder)\n",
    "rnn_decoder.load_state_dict(torch.load(PATH))"
   ]
  },
  {
   "cell_type": "code",
   "execution_count": null,
   "metadata": {},
   "outputs": [],
   "source": []
  },
  {
   "cell_type": "code",
   "execution_count": null,
   "metadata": {},
   "outputs": [],
   "source": [
    "import numpy as np\n",
    "import matplotlib.pyplot as plt\n",
    "from itertools import cycle\n",
    "\n",
    "from sklearn import svm, datasets\n",
    "from sklearn.metrics import roc_curve, auc\n",
    "from sklearn.model_selection import train_test_split\n",
    "from sklearn.preprocessing import label_binarize\n",
    "from sklearn.multiclass import OneVsRestClassifier\n",
    "from scipy import interp"
   ]
  },
  {
   "cell_type": "code",
   "execution_count": 33,
   "metadata": {},
   "outputs": [],
   "source": [
    "from sklearn.metrics import roc_curve, auc\n",
    "from sklearn.metrics import roc_auc_score\n",
    "from sklearn.metrics import f1_score\n",
    "from sklearn.metrics import confusion_matrix\n",
    "fpr = 0\n",
    "tpr = 0\n",
    "thresholds = 0\n",
    "roc_auc = 0\n",
    "auc = 0\n",
    "\n",
    "def validation_res(model, device, test_loader):\n",
    "    # set model as testing mode\n",
    "    cnn_encoder, rnn_decoder = model\n",
    "    cnn_encoder.eval()\n",
    "    rnn_decoder.eval()\n",
    "    \n",
    "    test_loss = 0\n",
    "    all_y = []\n",
    "    all_y_pred = []\n",
    "    test_loss = []\n",
    "    \n",
    "    probs = []\n",
    "    \n",
    "    with torch.no_grad():\n",
    "        for X, y  in test_loader:\n",
    "            # distribute data to device\n",
    "            X, y = X.to(device), y.to(device)\n",
    "\n",
    "            output = rnn_decoder(cnn_encoder(X))\n",
    "            y, _ = find_median(y) #This is necessary as now only single label output for entire frame\n",
    "            y = y.to(device)\n",
    "            loss = F.cross_entropy(output, y)\n",
    "            test_loss.append(loss.item())                 # sum up batch loss\n",
    "            y_pred = output.max(1, keepdim=True)[1]  # (y_pred != output) get the index of the max log-probability\n",
    "            prob = torch.nn.functional.softmax(output, dim=1)\n",
    "            print(\"The expected output shape is {}\".format(y.shape))\n",
    "            print(\"The computed prob is shape {}\".format(prob.shape))\n",
    "            logit = prob.max(1, keepdim=True)[0]\n",
    "            # collect all y and y_pred in all batches\n",
    "            \n",
    "            # The logit extended\n",
    "            print(\"The computed prob is shape {}\".format(logit.shape))\n",
    "            \n",
    "            all_y.extend(y)\n",
    "            all_y_pred.extend(y_pred)\n",
    "            probs.extend(logit)\n",
    "\n",
    "    # No need for this line. Our dataloader is a bit different. Simply use append idea\n",
    "    #test_loss /= len(test_loader.dataset)\n",
    "    test_loss = np.mean(test_loss)\n",
    "    # compute accuracy\n",
    "    all_y = torch.stack(all_y, dim=0)\n",
    "    all_y_pred = torch.stack(all_y_pred, dim=0)\n",
    "    test_score = accuracy_score(all_y.cpu().data.squeeze().numpy(), all_y_pred.cpu().data.squeeze().numpy())\n",
    "    f1_score_1 = f1_score(all_y.cpu().data.squeeze().numpy(), all_y_pred.cpu().data.squeeze().numpy(), average='macro')  \n",
    "    f1_score_2 = f1_score(all_y.cpu().data.squeeze().numpy(), all_y_pred.cpu().data.squeeze().numpy(), average='micro')\n",
    "    \n",
    "    print(\"f1_score macro {}\".format(f1_score_1))\n",
    "    print(\"f1 score micro {}\".format(f1_score_2))\n",
    "    \n",
    "    # show information\n",
    "    print('\\nTest set ({:d} samples): Average loss: {:.4f}, Accuracy: {:.2f}%\\n'.format(len(all_y), test_loss, 100* test_score))\n",
    "    \n",
    "    # Compute ROC curve and ROC area for each class\n",
    "    \n",
    "    confusion_matrix_sa = confusion_matrix(all_y.cpu().data.squeeze().numpy(), all_y_pred.cpu().data.squeeze().numpy())\n",
    "    print(\"Confusion Matrix\")\n",
    "    print(confusion_matrix_sa)\n",
    "    # We need to convert to probility the logit values\n",
    "    all_probs_np = torch.stack(probs, dim=0)\n",
    "    probs_np = all_probs_np.cpu().data.squeeze().numpy()\n",
    "    \n",
    "    auc = roc_auc_score(all_y.cpu().data.squeeze().numpy(), probs_np)\n",
    "    print('AUC: %.3f' % auc)\n",
    "    # calculate roc curve\n",
    "    fpr, tpr, thresholds = roc_curve(all_y.cpu().data.squeeze().numpy(), probs_np)\n",
    "    \n",
    "    from matplotlib import pyplot\n",
    "    pyplot.plot([0, 1], [0, 1], linestyle='--')\n",
    "    # plot the roc curve for the model\n",
    "    pyplot.plot(fpr, tpr, marker='.')\n",
    "    \n",
    "    plt.show()\n",
    "\n",
    "    return test_loss, test_score"
   ]
  },
  {
   "cell_type": "code",
   "execution_count": 17,
   "metadata": {},
   "outputs": [
    {
     "name": "stdout",
     "output_type": "stream",
     "text": [
      "\n",
      "Test set (300 samples): Average loss: 0.8046, Accuracy: 50.00%\n",
      "\n"
     ]
    }
   ],
   "source": [
    "epoch_test_loss, epoch_test_score = validation_res([cnn_encoder, rnn_decoder], device, valid_loader)"
   ]
  },
  {
   "cell_type": "code",
   "execution_count": 53,
   "metadata": {},
   "outputs": [
    {
     "name": "stdout",
     "output_type": "stream",
     "text": [
      "The score is 0.5 \n"
     ]
    }
   ],
   "source": [
    "print(\"The score is {} \".format(epoch_test_score))"
   ]
  },
  {
   "cell_type": "markdown",
   "metadata": {},
   "source": [
    " Let us Test MesoNet Performance in here"
   ]
  },
  {
   "cell_type": "code",
   "execution_count": 9,
   "metadata": {},
   "outputs": [
    {
     "data": {
      "text/plain": [
       "Meso4(\n",
       "  (conv1): Conv2d(3, 8, kernel_size=(3, 3), stride=(1, 1), padding=(1, 1))\n",
       "  (batch_norm_1): BatchNorm2d(8, eps=1e-05, momentum=0.1, affine=True, track_running_stats=True)\n",
       "  (relu): ReLU()\n",
       "  (conv2): Conv2d(8, 8, kernel_size=(5, 5), stride=(1, 1), padding=(2, 2))\n",
       "  (batch_norm_2): BatchNorm2d(8, eps=1e-05, momentum=0.1, affine=True, track_running_stats=True)\n",
       "  (conv3): Conv2d(8, 16, kernel_size=(5, 5), stride=(1, 1), padding=(2, 2))\n",
       "  (batch_norm_3): BatchNorm2d(16, eps=1e-05, momentum=0.1, affine=True, track_running_stats=True)\n",
       "  (conv4): Conv2d(16, 16, kernel_size=(5, 5), stride=(1, 1), padding=(2, 2))\n",
       "  (batch_norm_4): BatchNorm2d(16, eps=1e-05, momentum=0.1, affine=True, track_running_stats=True)\n",
       "  (max_pool_2): MaxPool2d(kernel_size=(2, 2), stride=2, padding=0, dilation=1, ceil_mode=False)\n",
       "  (max_pool_4): MaxPool2d(kernel_size=(4, 4), stride=4, padding=0, dilation=1, ceil_mode=False)\n",
       "  (fc_conv): Conv2d(16, 2, kernel_size=(16, 16), stride=(1, 1))\n",
       "  (dropout): Dropout2d(p=0.2)\n",
       ")"
      ]
     },
     "execution_count": 9,
     "metadata": {},
     "output_type": "execute_result"
    }
   ],
   "source": [
    "from Meso4 import Meso4\n",
    "model = Meso4()\n",
    "model.cuda()"
   ]
  },
  {
   "cell_type": "code",
   "execution_count": 17,
   "metadata": {},
   "outputs": [],
   "source": [
    "model_path = \"/home/chinmay/model_weights/MesoNet_final/MesoNet80\"\n",
    "model_name_encoder =\"meso_df_2_epoch22.pth\" \n",
    "PATH = os.path.join(model_path, model_name_encoder)\n",
    "model.load_state_dict(torch.load(PATH))"
   ]
  },
  {
   "cell_type": "code",
   "execution_count": 18,
   "metadata": {},
   "outputs": [],
   "source": [
    "from sklearn.metrics import roc_curve, auc\n",
    "from sklearn.metrics import roc_auc_score\n",
    "from sklearn.metrics import f1_score\n",
    "from sklearn.metrics import confusion_matrix\n",
    "fpr = 0\n",
    "tpr = 0\n",
    "thresholds = 0\n",
    "roc_auc = 0\n",
    "auc = 0\n",
    "def validation_conv(model, device, test_loader):\n",
    "    # set model as testing mode\n",
    "    model.eval()\n",
    "\n",
    "    test_loss = 0\n",
    "    all_y = []\n",
    "    all_y_pred = []\n",
    "    test_loss = 0\n",
    "    test_y_raw=[]\n",
    "    probs = []\n",
    "    \n",
    "    with torch.no_grad():\n",
    "        for X, y in test_loader:\n",
    "            # distribute data to device\n",
    "            X, y = X.to(device), y.to(device)\n",
    "            y_raw = y\n",
    "            output = model(X)\n",
    "            #print(\"Output shape is {}\".format(output.shape))\n",
    "            #print(\"Expected shape is {}\".format(y.shape))\n",
    "            for items in range(output.shape[1]):\n",
    "                loss = loss_function(output[:,items,:], y[:,items])\n",
    "                test_loss += loss.item()                 # sum up batch loss\n",
    "            #Predict value\n",
    "            y_pred = torch.max(output, 2)[1]  # (y_pred != output) get the index of the max log-probability\n",
    "            # Replace the value with the median value\n",
    "            y_pred, score = find_median(y_pred)\n",
    "            y, _ = find_median(y) #score param is meaningless\n",
    "            \n",
    "            # print few results\n",
    "            #print(\"Prediction is {} and score is {}\".format(y_pred,score))\n",
    "            prob = torch.nn.functional.softmax(output, dim=1)\n",
    "            print(\"The expected output shape is {}\".format(y.shape))\n",
    "            print(\"The computed prob is shape {}\".format(prob.shape))\n",
    "            logit = prob.max(2, keepdim=True)[0]\n",
    "            print(\"The computed logit is shape {}\".format(logit.shape))\n",
    "            # print(\"actual value of labels read from disc is {}\".format(y))\n",
    "            # print(\"filename is {} and prediction is {}\".format(file_name, y_pred))\n",
    "            # collect all y and y_pred in all batches\n",
    "            all_y.extend(y)\n",
    "            all_y_pred.extend(y_pred)\n",
    "            probs.extend(logit)\n",
    "            \n",
    "    test_loss /= len(test_loader.dataset)\n",
    "\n",
    "    # compute accuracy\n",
    "    all_y = torch.stack(all_y, dim=0)\n",
    "    all_y_pred = torch.stack(all_y_pred, dim=0)\n",
    "    test_score = accuracy_score(all_y.cpu().data.squeeze().numpy(), all_y_pred.cpu().data.squeeze().numpy())\n",
    "    \n",
    "    f1_score_1 = f1_score(all_y.cpu().data.squeeze().numpy(), all_y_pred.cpu().data.squeeze().numpy(), average='macro')  \n",
    "    f1_score_2 = f1_score(all_y.cpu().data.squeeze().numpy(), all_y_pred.cpu().data.squeeze().numpy(), average='micro')\n",
    "    \n",
    "    print(\"f1_score macro {}\".format(f1_score_1))\n",
    "    print(\"f1 score micro {}\".format(f1_score_2))\n",
    "    \n",
    "    # show information\n",
    "    print('\\nTest set ({:d} samples): Average loss: {:.4f}, Accuracy: {:.2f}%\\n'.format(len(all_y), test_loss, 100* test_score))\n",
    "    \n",
    "    # Compute ROC curve and ROC area for each class\n",
    "    \n",
    "    confusion_matrix_sa = confusion_matrix(all_y.cpu().data.squeeze().numpy(), all_y_pred.cpu().data.squeeze().numpy())\n",
    "    print(\"Confusion Matrix\")\n",
    "    print(confusion_matrix_sa)\n",
    "    \n",
    "    # show information\n",
    "    # print('\\nTest set ({:d} samples): Average loss: {:.4f}, Accuracy: {:.2f}%\\n'.format(len(all_y), test_loss, 100* test_score))\n",
    "    \n",
    "    all_probs_np = torch.stack(probs, dim=0)\n",
    "    print(\"All prob shape is {}\".format(all_probs_np.shape))\n",
    "    probs_np = all_probs_np.cpu().data.squeeze().numpy() #Take values on one frame\n",
    "    probs_np = probs_np[:,0]\n",
    "    print(\"shape is {}\".format(probs_np.shape))\n",
    "    auc = roc_auc_score(all_y.cpu().data.squeeze().numpy(), probs_np)\n",
    "    print('AUC: %.3f' % auc)\n",
    "    # calculate roc curve\n",
    "    fpr, tpr, thresholds = roc_curve(all_y.cpu().data.squeeze().numpy(), probs_np)\n",
    "    \n",
    "    from matplotlib import pyplot\n",
    "    pyplot.plot([0, 1], [0, 1], linestyle='--')\n",
    "    # plot the roc curve for the model\n",
    "    pyplot.plot(fpr, tpr, marker='.')\n",
    "    \n",
    "    plt.show()\n",
    "    \n",
    "    return test_loss, test_score"
   ]
  },
  {
   "cell_type": "code",
   "execution_count": 19,
   "metadata": {},
   "outputs": [
    {
     "name": "stdout",
     "output_type": "stream",
     "text": [
      "The expected output shape is torch.Size([16])\n",
      "The computed prob is shape torch.Size([16, 10, 2])\n",
      "The computed logit is shape torch.Size([16, 10, 1])\n",
      "The expected output shape is torch.Size([16])\n",
      "The computed prob is shape torch.Size([16, 10, 2])\n",
      "The computed logit is shape torch.Size([16, 10, 1])\n",
      "The expected output shape is torch.Size([16])\n",
      "The computed prob is shape torch.Size([16, 10, 2])\n",
      "The computed logit is shape torch.Size([16, 10, 1])\n",
      "The expected output shape is torch.Size([16])\n",
      "The computed prob is shape torch.Size([16, 10, 2])\n",
      "The computed logit is shape torch.Size([16, 10, 1])\n",
      "The expected output shape is torch.Size([16])\n",
      "The computed prob is shape torch.Size([16, 10, 2])\n",
      "The computed logit is shape torch.Size([16, 10, 1])\n",
      "The expected output shape is torch.Size([16])\n",
      "The computed prob is shape torch.Size([16, 10, 2])\n",
      "The computed logit is shape torch.Size([16, 10, 1])\n",
      "The expected output shape is torch.Size([16])\n",
      "The computed prob is shape torch.Size([16, 10, 2])\n",
      "The computed logit is shape torch.Size([16, 10, 1])\n",
      "The expected output shape is torch.Size([16])\n",
      "The computed prob is shape torch.Size([16, 10, 2])\n",
      "The computed logit is shape torch.Size([16, 10, 1])\n",
      "The expected output shape is torch.Size([16])\n",
      "The computed prob is shape torch.Size([16, 10, 2])\n",
      "The computed logit is shape torch.Size([16, 10, 1])\n",
      "The expected output shape is torch.Size([16])\n",
      "The computed prob is shape torch.Size([16, 10, 2])\n",
      "The computed logit is shape torch.Size([16, 10, 1])\n",
      "The expected output shape is torch.Size([16])\n",
      "The computed prob is shape torch.Size([16, 10, 2])\n",
      "The computed logit is shape torch.Size([16, 10, 1])\n",
      "The expected output shape is torch.Size([16])\n",
      "The computed prob is shape torch.Size([16, 10, 2])\n",
      "The computed logit is shape torch.Size([16, 10, 1])\n",
      "The expected output shape is torch.Size([16])\n",
      "The computed prob is shape torch.Size([16, 10, 2])\n",
      "The computed logit is shape torch.Size([16, 10, 1])\n",
      "The expected output shape is torch.Size([16])\n",
      "The computed prob is shape torch.Size([16, 10, 2])\n",
      "The computed logit is shape torch.Size([16, 10, 1])\n",
      "The expected output shape is torch.Size([16])\n",
      "The computed prob is shape torch.Size([16, 10, 2])\n",
      "The computed logit is shape torch.Size([16, 10, 1])\n",
      "The expected output shape is torch.Size([16])\n",
      "The computed prob is shape torch.Size([16, 10, 2])\n",
      "The computed logit is shape torch.Size([16, 10, 1])\n",
      "The expected output shape is torch.Size([16])\n",
      "The computed prob is shape torch.Size([16, 10, 2])\n",
      "The computed logit is shape torch.Size([16, 10, 1])\n",
      "The expected output shape is torch.Size([16])\n",
      "The computed prob is shape torch.Size([16, 10, 2])\n",
      "The computed logit is shape torch.Size([16, 10, 1])\n",
      "The expected output shape is torch.Size([12])\n",
      "The computed prob is shape torch.Size([12, 10, 2])\n",
      "The computed logit is shape torch.Size([12, 10, 1])\n",
      "f1_score macro 0.9399893314366998\n",
      "f1 score micro 0.94\n",
      "\n",
      "Test set (300 samples): Average loss: 0.1578, Accuracy: 94.00%\n",
      "\n",
      "Confusion Matrix\n",
      "[[143   7]\n",
      " [ 11 139]]\n",
      "All prob shape is torch.Size([300, 10, 1])\n",
      "shape is (300,)\n",
      "AUC: 0.532\n"
     ]
    },
    {
     "data": {
      "image/png": "[encoded data removed]",
      "text/plain": [
       "<Figure size 432x288 with 1 Axes>"
      ]
     },
     "metadata": {
      "needs_background": "light"
     },
     "output_type": "display_data"
    }
   ],
   "source": [
    "epoch_test_loss, epoch_test_score = validation_conv(model, device, valid_loader)"
   ]
  },
  {
   "cell_type": "code",
   "execution_count": 13,
   "metadata": {},
   "outputs": [
    {
     "name": "stdout",
     "output_type": "stream",
     "text": [
      "The score is 0.7133333333333334 \n"
     ]
    }
   ],
   "source": [
    "print(\"The score is {} \".format(epoch_test_score))"
   ]
  },
  {
   "cell_type": "markdown",
   "metadata": {},
   "source": [
    "### This is for MesoNet on F2F"
   ]
  },
  {
   "cell_type": "code",
   "execution_count": 60,
   "metadata": {},
   "outputs": [],
   "source": [
    "model_path = \"/home/chinmay/model_weights/MesoNet_final/MesoNet80\"\n",
    "model_name_encoder =\"meso_df_2_epoch61.pth\" \n",
    "PATH = os.path.join(model_path, model_name_encoder)\n",
    "model.load_state_dict(torch.load(PATH))"
   ]
  },
  {
   "cell_type": "code",
   "execution_count": 63,
   "metadata": {},
   "outputs": [
    {
     "name": "stdout",
     "output_type": "stream",
     "text": [
      "AUC: 0.713\n"
     ]
    },
    {
     "data": {
      "image/png": "[encoded data removed]",
      "text/plain": [
       "<Figure size 432x288 with 1 Axes>"
      ]
     },
     "metadata": {
      "needs_background": "light"
     },
     "output_type": "display_data"
    }
   ],
   "source": [
    "epoch_test_loss, epoch_test_score = validation_conv(model, device, valid_loader)"
   ]
  },
  {
   "cell_type": "code",
   "execution_count": 62,
   "metadata": {},
   "outputs": [
    {
     "name": "stdout",
     "output_type": "stream",
     "text": [
      "The score is 0.96 \n"
     ]
    }
   ],
   "source": [
    "print(\"The score is {} \".format(epoch_test_score))"
   ]
  },
  {
   "cell_type": "markdown",
   "metadata": {},
   "source": [
    "### For Conv3D"
   ]
  },
  {
   "cell_type": "markdown",
   "metadata": {},
   "source": [
    "# Now on DeepFake Dataset"
   ]
  },
  {
   "cell_type": "code",
   "execution_count": 17,
   "metadata": {},
   "outputs": [],
   "source": [
    "val_path = '/home/chinmay/datatset/deepfake_split/val'\n",
    "val_data = Dataset_CRNN_Deep_Fake(val_path, transform=TRANSFORM_IMG, frame_length=30)"
   ]
  },
  {
   "cell_type": "code",
   "execution_count": 18,
   "metadata": {},
   "outputs": [],
   "source": [
    "deep_fake_valid_loader = data.DataLoader(val_data, **params)"
   ]
  },
  {
   "cell_type": "code",
   "execution_count": 69,
   "metadata": {},
   "outputs": [],
   "source": [
    "epoch_test_loss, epoch_test_score = validation_conv(model, device, deep_fake_valid_loader)"
   ]
  },
  {
   "cell_type": "code",
   "execution_count": 70,
   "metadata": {},
   "outputs": [
    {
     "name": "stdout",
     "output_type": "stream",
     "text": [
      "The score is 0.8978723404255319 \n"
     ]
    }
   ],
   "source": [
    "print(\"The score is {} \".format(epoch_test_score))"
   ]
  },
  {
   "cell_type": "code",
   "execution_count": 38,
   "metadata": {},
   "outputs": [],
   "source": [
    "model_path = \"/home/chinmay/model_weights/MesoNet-df/MesoNet-dropout-40\"\n",
    "model_name_encoder =\"meso_df_2_epoch28.pth\" \n",
    "PATH = os.path.join(model_path, model_name_encoder)\n",
    "model.load_state_dict(torch.load(PATH))"
   ]
  },
  {
   "cell_type": "code",
   "execution_count": null,
   "metadata": {},
   "outputs": [],
   "source": []
  },
  {
   "cell_type": "code",
   "execution_count": 79,
   "metadata": {},
   "outputs": [
    {
     "name": "stdout",
     "output_type": "stream",
     "text": [
      "The expected output shape is torch.Size([16])\n",
      "The computed prob is shape torch.Size([16, 30, 2])\n",
      "The computed logit is shape torch.Size([16, 30, 1])\n",
      "The expected output shape is torch.Size([16])\n",
      "The computed prob is shape torch.Size([16, 30, 2])\n",
      "The computed logit is shape torch.Size([16, 30, 1])\n",
      "The expected output shape is torch.Size([16])\n",
      "The computed prob is shape torch.Size([16, 30, 2])\n",
      "The computed logit is shape torch.Size([16, 30, 1])\n",
      "The expected output shape is torch.Size([16])\n",
      "The computed prob is shape torch.Size([16, 30, 2])\n",
      "The computed logit is shape torch.Size([16, 30, 1])\n",
      "The expected output shape is torch.Size([16])\n",
      "The computed prob is shape torch.Size([16, 30, 2])\n",
      "The computed logit is shape torch.Size([16, 30, 1])\n",
      "The expected output shape is torch.Size([16])\n",
      "The computed prob is shape torch.Size([16, 30, 2])\n",
      "The computed logit is shape torch.Size([16, 30, 1])\n",
      "The expected output shape is torch.Size([16])\n",
      "The computed prob is shape torch.Size([16, 30, 2])\n",
      "The computed logit is shape torch.Size([16, 30, 1])\n",
      "The expected output shape is torch.Size([16])\n",
      "The computed prob is shape torch.Size([16, 30, 2])\n",
      "The computed logit is shape torch.Size([16, 30, 1])\n",
      "The expected output shape is torch.Size([16])\n",
      "The computed prob is shape torch.Size([16, 30, 2])\n",
      "The computed logit is shape torch.Size([16, 30, 1])\n",
      "The expected output shape is torch.Size([16])\n",
      "The computed prob is shape torch.Size([16, 30, 2])\n",
      "The computed logit is shape torch.Size([16, 30, 1])\n",
      "The expected output shape is torch.Size([16])\n",
      "The computed prob is shape torch.Size([16, 30, 2])\n",
      "The computed logit is shape torch.Size([16, 30, 1])\n",
      "The expected output shape is torch.Size([16])\n",
      "The computed prob is shape torch.Size([16, 30, 2])\n",
      "The computed logit is shape torch.Size([16, 30, 1])\n",
      "The expected output shape is torch.Size([16])\n",
      "The computed prob is shape torch.Size([16, 30, 2])\n",
      "The computed logit is shape torch.Size([16, 30, 1])\n",
      "The expected output shape is torch.Size([16])\n",
      "The computed prob is shape torch.Size([16, 30, 2])\n",
      "The computed logit is shape torch.Size([16, 30, 1])\n",
      "The expected output shape is torch.Size([11])\n",
      "The computed prob is shape torch.Size([11, 30, 2])\n",
      "The computed logit is shape torch.Size([11, 30, 1])\n",
      "f1_score macro 0.9689159312938154\n",
      "f1 score micro 0.9702127659574468\n",
      "\n",
      "Test set (235 samples): Average loss: 0.4552, Accuracy: 97.02%\n",
      "\n",
      "Confusion Matrix\n",
      "[[138   3]\n",
      " [  4  90]]\n",
      "All prob shape is torch.Size([235, 30, 1])\n",
      "shape is (235,)\n",
      "AUC: 0.578\n"
     ]
    },
    {
     "data": {
      "image/png": "[encoded data removed]",
      "text/plain": [
       "<Figure size 432x288 with 1 Axes>"
      ]
     },
     "metadata": {
      "needs_background": "light"
     },
     "output_type": "display_data"
    }
   ],
   "source": [
    "epoch_test_loss, epoch_test_score = validation_conv(model, device, deep_fake_valid_loader)"
   ]
  },
  {
   "cell_type": "code",
   "execution_count": 75,
   "metadata": {},
   "outputs": [
    {
     "name": "stdout",
     "output_type": "stream",
     "text": [
      "The score is 0.9702127659574468 \n"
     ]
    }
   ],
   "source": [
    "print(\"The score is {} \".format(epoch_test_score))"
   ]
  },
  {
   "cell_type": "markdown",
   "metadata": {},
   "source": [
    "### This is for Res-CNN"
   ]
  },
  {
   "cell_type": "code",
   "execution_count": 76,
   "metadata": {},
   "outputs": [
    {
     "name": "stdout",
     "output_type": "stream",
     "text": [
      "\n",
      "Test set (235 samples): Average loss: 0.3118, Accuracy: 89.36%\n",
      "\n"
     ]
    }
   ],
   "source": [
    "epoch_test_loss, epoch_test_score = validation_res([cnn_encoder, rnn_decoder], device, deep_fake_valid_loader)"
   ]
  },
  {
   "cell_type": "code",
   "execution_count": 77,
   "metadata": {},
   "outputs": [
    {
     "name": "stdout",
     "output_type": "stream",
     "text": [
      "The score is 0.8936170212765957 \n"
     ]
    }
   ],
   "source": [
    "print(\"The score is {} \".format(epoch_test_score))"
   ]
  },
  {
   "cell_type": "markdown",
   "metadata": {},
   "source": [
    "#  Combined Model"
   ]
  },
  {
   "cell_type": "code",
   "execution_count": null,
   "metadata": {},
   "outputs": [],
   "source": []
  },
  {
   "cell_type": "code",
   "execution_count": 14,
   "metadata": {},
   "outputs": [],
   "source": [
    "# reload CRNN model\n",
    "cnn_encoder = ResCNNEncoder().to(device) #Since we have a GPU already\n",
    "rnn_decoder = DecoderRNN(CNN_embed_dim=CNN_emded_dim, h_RNN_layers=RNN_hidden_layers, h_RNN=RNN_hidden_nodes, \n",
    "                         h_FC_dim=RNN_FC_dim, drop_p=dropout_p, num_classes=2).to(device)"
   ]
  },
  {
   "cell_type": "code",
   "execution_count": 15,
   "metadata": {},
   "outputs": [],
   "source": [
    "model_path = \"/home/chinmay/model_weights/res_vgg_combined/\"\n",
    "model_name_encoder = \"cnn_encoder_epoch10.pth\"\n",
    "PATH = os.path.join(model_path, model_name_encoder)\n",
    "cnn_encoder.load_state_dict(torch.load(PATH))\n",
    "model_name_decoder = \"rnn_decoder_epoch10.pth\"\n",
    "PATH = os.path.join(model_path, model_name_decoder)\n",
    "rnn_decoder.load_state_dict(torch.load(PATH))"
   ]
  },
  {
   "cell_type": "code",
   "execution_count": 34,
   "metadata": {},
   "outputs": [
    {
     "name": "stdout",
     "output_type": "stream",
     "text": [
      "The expected output shape is torch.Size([16])\n",
      "The computed prob is shape torch.Size([16, 2])\n",
      "The computed prob is shape torch.Size([16, 1])\n",
      "The expected output shape is torch.Size([16])\n",
      "The computed prob is shape torch.Size([16, 2])\n",
      "The computed prob is shape torch.Size([16, 1])\n",
      "The expected output shape is torch.Size([16])\n",
      "The computed prob is shape torch.Size([16, 2])\n",
      "The computed prob is shape torch.Size([16, 1])\n",
      "The expected output shape is torch.Size([16])\n",
      "The computed prob is shape torch.Size([16, 2])\n",
      "The computed prob is shape torch.Size([16, 1])\n",
      "The expected output shape is torch.Size([16])\n",
      "The computed prob is shape torch.Size([16, 2])\n",
      "The computed prob is shape torch.Size([16, 1])\n",
      "The expected output shape is torch.Size([16])\n",
      "The computed prob is shape torch.Size([16, 2])\n",
      "The computed prob is shape torch.Size([16, 1])\n",
      "The expected output shape is torch.Size([16])\n",
      "The computed prob is shape torch.Size([16, 2])\n",
      "The computed prob is shape torch.Size([16, 1])\n",
      "The expected output shape is torch.Size([16])\n",
      "The computed prob is shape torch.Size([16, 2])\n",
      "The computed prob is shape torch.Size([16, 1])\n",
      "The expected output shape is torch.Size([16])\n",
      "The computed prob is shape torch.Size([16, 2])\n",
      "The computed prob is shape torch.Size([16, 1])\n",
      "The expected output shape is torch.Size([16])\n",
      "The computed prob is shape torch.Size([16, 2])\n",
      "The computed prob is shape torch.Size([16, 1])\n",
      "The expected output shape is torch.Size([16])\n",
      "The computed prob is shape torch.Size([16, 2])\n",
      "The computed prob is shape torch.Size([16, 1])\n",
      "The expected output shape is torch.Size([16])\n",
      "The computed prob is shape torch.Size([16, 2])\n",
      "The computed prob is shape torch.Size([16, 1])\n",
      "The expected output shape is torch.Size([16])\n",
      "The computed prob is shape torch.Size([16, 2])\n",
      "The computed prob is shape torch.Size([16, 1])\n",
      "The expected output shape is torch.Size([16])\n",
      "The computed prob is shape torch.Size([16, 2])\n",
      "The computed prob is shape torch.Size([16, 1])\n",
      "The expected output shape is torch.Size([11])\n",
      "The computed prob is shape torch.Size([11, 2])\n",
      "The computed prob is shape torch.Size([11, 1])\n",
      "f1_score macro 0.9372329059829061\n",
      "f1 score micro 0.9404255319148935\n",
      "\n",
      "Test set (235 samples): Average loss: 0.2565, Accuracy: 94.04%\n",
      "\n",
      "Confusion Matrix\n",
      "[[137   4]\n",
      " [ 10  84]]\n",
      "AUC: 0.899\n"
     ]
    },
    {
     "data": {
      "image/png": "[encoded data removed]",
      "text/plain": [
       "<Figure size 432x288 with 1 Axes>"
      ]
     },
     "metadata": {
      "needs_background": "light"
     },
     "output_type": "display_data"
    }
   ],
   "source": [
    "epoch_test_loss, epoch_test_score = validation_res([cnn_encoder, rnn_decoder], device, deep_fake_valid_loader)"
   ]
  },
  {
   "cell_type": "code",
   "execution_count": null,
   "metadata": {},
   "outputs": [],
   "source": [
    "print(\"The score is {} \".format(epoch_test_score))"
   ]
  },
  {
   "cell_type": "code",
   "execution_count": null,
   "metadata": {},
   "outputs": [],
   "source": []
  },
  {
   "cell_type": "code",
   "execution_count": 51,
   "metadata": {},
   "outputs": [
    {
     "name": "stdout",
     "output_type": "stream",
     "text": [
      "AUC: 0.000\n"
     ]
    }
   ],
   "source": [
    "print('AUC: %.3f' % auc)"
   ]
  },
  {
   "cell_type": "code",
   "execution_count": 53,
   "metadata": {},
   "outputs": [
    {
     "data": {
      "image/png": "[encoded data removed]",
      "text/plain": [
       "<Figure size 432x288 with 1 Axes>"
      ]
     },
     "metadata": {
      "needs_background": "light"
     },
     "output_type": "display_data"
    },
    {
     "data": {
      "image/png": "[encoded data removed]",
      "text/plain": [
       "<Figure size 432x288 with 1 Axes>"
      ]
     },
     "metadata": {
      "needs_background": "light"
     },
     "output_type": "display_data"
    }
   ],
   "source": [
    "from matplotlib import pyplot\n",
    "pyplot.plot([0, 1], [0, 1], linestyle='--')\n",
    "# plot the roc curve for the model\n",
    "pyplot.plot(fpr, tpr, marker='.')\n",
    "# show the plot\n",
    "pyplot.show()\n",
    "plt.ylabel('True Positive Rate')\n",
    "plt.xlabel('False Positive Rate')\n",
    "plt.show()"
   ]
  },
  {
   "cell_type": "code",
   "execution_count": null,
   "metadata": {},
   "outputs": [],
   "source": [
    "fpr = 0\n",
    "tpr = 0\n",
    "thresholds = 0\n",
    "roc_auc = 0\n",
    "auc = 0"
   ]
  },
  {
   "cell_type": "code",
   "execution_count": 14,
   "metadata": {},
   "outputs": [
    {
     "name": "stdout",
     "output_type": "stream",
     "text": [
      "\n",
      "Test set (300 samples): Average loss: 3.0971, Accuracy: 50.33%\n",
      "\n"
     ]
    }
   ],
   "source": [
    "epoch_test_loss, epoch_test_score = validation_res([cnn_encoder, rnn_decoder], device, valid_loader)"
   ]
  },
  {
   "cell_type": "code",
   "execution_count": 15,
   "metadata": {},
   "outputs": [
    {
     "name": "stdout",
     "output_type": "stream",
     "text": [
      "The score is 0.5033333333333333 \n"
     ]
    }
   ],
   "source": [
    "print(\"The score is {} \".format(epoch_test_score))"
   ]
  },
  {
   "cell_type": "code",
   "execution_count": null,
   "metadata": {},
   "outputs": [],
   "source": []
  }
 ],
 "metadata": {
  "kernelspec": {
   "display_name": "Python 3",
   "language": "python",
   "name": "python3"
  },
  "language_info": {
   "codemirror_mode": {
    "name": "ipython",
    "version": 3
   },
   "file_extension": ".py",
   "mimetype": "text/x-python",
   "name": "python",
   "nbconvert_exporter": "python",
   "pygments_lexer": "ipython3",
   "version": "3.5.6"
  }
 },
 "nbformat": 4,
 "nbformat_minor": 2
}
